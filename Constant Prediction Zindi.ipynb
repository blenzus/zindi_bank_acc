{
 "cells": [
  {
   "cell_type": "code",
   "execution_count": 1,
   "metadata": {},
   "outputs": [],
   "source": [
    "## METRIC : ACCURACY FOR THIS CHALLENGE\n",
    "from sklearn.metrics import accuracy_score\n",
    "import pandas as pd\n",
    "import numpy as np"
   ]
  },
  {
   "cell_type": "code",
   "execution_count": null,
   "metadata": {},
   "outputs": [],
   "source": [
    "train=pd.read_csv('C:/Users/Amine/Desktop/Zindi_Competition/Train_v2.csv')\n",
    "test=pd.read_csv('C:/Users/Amine/Desktop/Zindi_Competition/Test_v2.csv')\n",
    "submission_file=pd.read_csv('C:/Users/Amine/Desktop/Zindi_Competition/SubmissionFile_Zindi.csv')\n",
    "Variables=pd.read_csv('C:/Users/Amine/Desktop/Zindi_Competition/VariableDefinitions_Zindi.csv')"
   ]
  },
  {
   "cell_type": "code",
   "execution_count": null,
   "metadata": {},
   "outputs": [],
   "source": [
    "train['uniqueid']= train['uniqueid']+' x '+train['country']\n",
    "test['uniqueid']= test['uniqueid']+' x '+test['country'] "
   ]
  },
  {
   "cell_type": "code",
   "execution_count": null,
   "metadata": {},
   "outputs": [],
   "source": [
    "## target encoding\n",
    "di = {\"Yes\": 1, \"No\": 0}\n",
    "train.replace({\"bank_account\": di},inplace=True)"
   ]
  },
  {
   "cell_type": "code",
   "execution_count": null,
   "metadata": {},
   "outputs": [],
   "source": [
    "submission = pd.DataFrame(index=test.index,columns=['uniqueid','bank_account'])\n",
    "submission['uniqueid'] = test['uniqueid']\n",
    "submission.bank_account=0\n",
    "submission.to_csv('C:/Users/Amine/Desktop/submit_zindi_constant.csv',index=False)"
   ]
  }
 ],
 "metadata": {
  "kernelspec": {
   "display_name": "Python 3",
   "language": "python",
   "name": "python3"
  },
  "language_info": {
   "codemirror_mode": {
    "name": "ipython",
    "version": 3
   },
   "file_extension": ".py",
   "mimetype": "text/x-python",
   "name": "python",
   "nbconvert_exporter": "python",
   "pygments_lexer": "ipython3",
   "version": "3.7.1"
  }
 },
 "nbformat": 4,
 "nbformat_minor": 2
}
